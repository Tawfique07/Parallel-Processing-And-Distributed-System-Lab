{
  "nbformat": 4,
  "nbformat_minor": 0,
  "metadata": {
    "colab": {
      "provenance": [],
      "gpuType": "T4",
      "authorship_tag": "ABX9TyP5BCOPTDPu80ZzvUyGdQ/C",
      "include_colab_link": true
    },
    "kernelspec": {
      "name": "python3",
      "display_name": "Python 3"
    },
    "language_info": {
      "name": "python"
    },
    "accelerator": "GPU"
  },
  "cells": [
    {
      "cell_type": "markdown",
      "metadata": {
        "id": "view-in-github",
        "colab_type": "text"
      },
      "source": [
        "<a href=\"https://colab.research.google.com/github/Tawfique07/Parallel-Processing-And-Distributed-System-Lab/blob/main/matrixCUDA.ipynb\" target=\"_parent\"><img src=\"https://colab.research.google.com/assets/colab-badge.svg\" alt=\"Open In Colab\"/></a>"
      ]
    },
    {
      "cell_type": "code",
      "execution_count": 1,
      "metadata": {
        "colab": {
          "base_uri": "https://localhost:8080/"
        },
        "id": "uljkOjgYu43n",
        "outputId": "64630f97-b5c0-4cf4-c70f-5b6fc4aeb0b4"
      },
      "outputs": [
        {
          "output_type": "stream",
          "name": "stdout",
          "text": [
            "Collecting git+https://github.com/andreinechaev/nvcc4jupyter.git\n",
            "  Cloning https://github.com/andreinechaev/nvcc4jupyter.git to /tmp/pip-req-build-ttp169ll\n",
            "  Running command git clone --filter=blob:none --quiet https://github.com/andreinechaev/nvcc4jupyter.git /tmp/pip-req-build-ttp169ll\n",
            "  Resolved https://github.com/andreinechaev/nvcc4jupyter.git to commit 0d2ab99cccbbc682722e708515fe9c4cfc50185a\n",
            "  Preparing metadata (setup.py) ... \u001b[?25l\u001b[?25hdone\n",
            "Building wheels for collected packages: NVCCPlugin\n",
            "  Building wheel for NVCCPlugin (setup.py) ... \u001b[?25l\u001b[?25hdone\n",
            "  Created wheel for NVCCPlugin: filename=NVCCPlugin-0.0.2-py3-none-any.whl size=4716 sha256=628dab7add33bbe3db241f27cae90d2e08fab6039c9c40938873f96265651feb\n",
            "  Stored in directory: /tmp/pip-ephem-wheel-cache-1hho9y28/wheels/a8/b9/18/23f8ef71ceb0f63297dd1903aedd067e6243a68ea756d6feea\n",
            "Successfully built NVCCPlugin\n",
            "Installing collected packages: NVCCPlugin\n",
            "Successfully installed NVCCPlugin-0.0.2\n",
            "created output directory at /content/src\n",
            "Out bin /content/result.out\n"
          ]
        }
      ],
      "source": [
        "!pip install git+https://github.com/andreinechaev/nvcc4jupyter.git\n",
        "%load_ext nvcc_plugin"
      ]
    },
    {
      "cell_type": "code",
      "source": [
        "%%cu\n",
        "#include <iostream>\n",
        "#include <cstdlib>\n",
        "#include <ctime>\n",
        "#include <cuda_runtime.h>\n",
        "\n",
        "const int M = 2;  // Rows of A\n",
        "const int N = 3;  // Columns of A and Rows of B\n",
        "const int P = 4;  // Columns of B\n",
        "const int K = 3;  // Number of matrices\n",
        "\n",
        "__global__ void matrixMultiplication(int *A, int *B, int *C, int m, int n, int p) {\n",
        "    int row = blockIdx.y * blockDim.y + threadIdx.y;\n",
        "    int col = blockIdx.x * blockDim.x + threadIdx.x;\n",
        "\n",
        "    if (row < m && col < p) {\n",
        "        int sum = 0;\n",
        "        for (int k = 0; k < n; ++k) {\n",
        "            sum += A[row * n + k] * B[k * p + col];\n",
        "        }\n",
        "        C[row * p + col] = sum;\n",
        "    }\n",
        "}\n",
        "\n",
        "void printMatrix(int *matrix, int rows, int cols, const char *name) {\n",
        "    std::cout << name << \":\\n\";\n",
        "    for (int i = 0; i < rows; ++i) {\n",
        "        for (int j = 0; j < cols; ++j) {\n",
        "            std::cout << matrix[i * cols + j] << \"\\t\";\n",
        "        }\n",
        "        std::cout << \"\\n\";\n",
        "    }\n",
        "    std::cout << \"\\n\";\n",
        "}\n",
        "\n",
        "void initializeRandomMatrix(int *matrix, int rows, int cols) {\n",
        "    for (int i = 0; i < rows; ++i) {\n",
        "        for (int j = 0; j < cols; ++j) {\n",
        "            matrix[i * cols + j] = rand() % 10;  // Adjust the range as needed\n",
        "        }\n",
        "    }\n",
        "}\n",
        "\n",
        "int main() {\n",
        "    srand(time(NULL));  // Seed for random number generation\n",
        "\n",
        "    int *h_A, *h_B, *h_C;  // Host matrices\n",
        "    int *d_A, *d_B, *d_C;  // Device matrices\n",
        "\n",
        "    // Allocate host memory\n",
        "    h_A = (int *)malloc(K * M * N * sizeof(int));\n",
        "    h_B = (int *)malloc(K * N * P * sizeof(int));\n",
        "    h_C = (int *)malloc(K * M * P * sizeof(int));\n",
        "\n",
        "    // Initialize host matrices A and B with random data\n",
        "    for (int k = 0; k < K; ++k) {\n",
        "        initializeRandomMatrix(h_A + k * M * N, M, N);\n",
        "        initializeRandomMatrix(h_B + k * N * P, N, P);\n",
        "    }\n",
        "\n",
        "    // Print input matrices\n",
        "    for (int k = 0; k < K; ++k) {\n",
        "        printMatrix(h_A + k * M * N, M, N, (\"Matrix A\" + std::to_string(k)).c_str());\n",
        "        printMatrix(h_B + k * N * P, N, P, (\"Matrix B\" + std::to_string(k)).c_str());\n",
        "    }\n",
        "\n",
        "    // Allocate device memory\n",
        "    cudaMalloc((void **)&d_A, K * M * N * sizeof(int));\n",
        "    cudaMalloc((void **)&d_B, K * N * P * sizeof(int));\n",
        "    cudaMalloc((void **)&d_C, K * M * P * sizeof(int));\n",
        "\n",
        "    // Copy data from host to device\n",
        "    cudaMemcpy(d_A, h_A, K * M * N * sizeof(int), cudaMemcpyHostToDevice);\n",
        "    cudaMemcpy(d_B, h_B, K * N * P * sizeof(int), cudaMemcpyHostToDevice);\n",
        "\n",
        "    // Define thread block and grid dimensions\n",
        "    dim3 blockDim(16, 16);\n",
        "    dim3 gridDim((P + blockDim.x - 1) / blockDim.x, (M + blockDim.y - 1) / blockDim.y);\n",
        "\n",
        "    // Launch the matrix multiplication kernel for each pair of matrices\n",
        "    for (int k = 0; k < K; ++k) {\n",
        "        matrixMultiplication<<<gridDim, blockDim>>>(d_A + k * M * N, d_B + k * N * P, d_C + k * M * P, M, N, P);\n",
        "    }\n",
        "\n",
        "    // Copy the result back to the host\n",
        "    cudaMemcpy(h_C, d_C, K * M * P * sizeof(int), cudaMemcpyDeviceToHost);\n",
        "\n",
        "    // Print output matrices\n",
        "    for (int k = 0; k < K; ++k) {\n",
        "        printMatrix(h_C + k * M * P, M, P, (\"Result Matrix\" + std::to_string(k)).c_str());\n",
        "    }\n",
        "\n",
        "    // Free device and host memory\n",
        "    cudaFree(d_A);\n",
        "    cudaFree(d_B);\n",
        "    cudaFree(d_C);\n",
        "    free(h_A);\n",
        "    free(h_B);\n",
        "    free(h_C);\n",
        "\n",
        "    return 0;\n",
        "}\n"
      ],
      "metadata": {
        "colab": {
          "base_uri": "https://localhost:8080/"
        },
        "id": "PRezylT_jp6I",
        "outputId": "7e9fc68e-09e9-464c-e591-44a961c0f734"
      },
      "execution_count": 2,
      "outputs": [
        {
          "output_type": "stream",
          "name": "stdout",
          "text": [
            "Matrix A0:\n",
            "8\t3\t3\t\n",
            "1\t3\t9\t\n",
            "\n",
            "Matrix B0:\n",
            "0\t5\t3\t8\t\n",
            "6\t2\t7\t4\t\n",
            "9\t6\t6\t6\t\n",
            "\n",
            "Matrix A1:\n",
            "9\t4\t6\t\n",
            "8\t7\t7\t\n",
            "\n",
            "Matrix B1:\n",
            "3\t8\t4\t9\t\n",
            "8\t6\t6\t6\t\n",
            "1\t1\t9\t4\t\n",
            "\n",
            "Matrix A2:\n",
            "1\t9\t1\t\n",
            "6\t9\t7\t\n",
            "\n",
            "Matrix B2:\n",
            "8\t9\t4\t7\t\n",
            "5\t2\t5\t6\t\n",
            "6\t3\t6\t3\t\n",
            "\n",
            "Result Matrix0:\n",
            "45\t64\t63\t94\t\n",
            "99\t65\t78\t74\t\n",
            "\n",
            "Result Matrix1:\n",
            "65\t102\t114\t129\t\n",
            "87\t113\t137\t142\t\n",
            "\n",
            "Result Matrix2:\n",
            "59\t30\t55\t64\t\n",
            "135\t93\t111\t117\t\n",
            "\n",
            "\n"
          ]
        }
      ]
    }
  ]
}